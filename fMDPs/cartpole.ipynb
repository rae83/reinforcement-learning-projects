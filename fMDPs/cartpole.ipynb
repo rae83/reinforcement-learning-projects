{
 "cells": [
  {
   "cell_type": "code",
   "execution_count": 2,
   "metadata": {
    "collapsed": true
   },
   "outputs": [],
   "source": [
    "import gym\n",
    "import matplotlib.pyplot as plt\n",
    "import numpy as np"
   ]
  },
  {
   "cell_type": "code",
   "execution_count": 3,
   "metadata": {},
   "outputs": [
    {
     "name": "stderr",
     "output_type": "stream",
     "text": [
      "[2018-01-23 17:56:34,263] Making new env: CartPole-v0\n"
     ]
    }
   ],
   "source": [
    "env = gym.make(\"CartPole-v0\")\n",
    "observation = env.reset()"
   ]
  },
  {
   "cell_type": "code",
   "execution_count": 4,
   "metadata": {},
   "outputs": [
    {
     "name": "stdout",
     "output_type": "stream",
     "text": [
      "{'n': 2}\n",
      "{'low': array([ -4.80000000e+00,  -3.40282347e+38,  -4.18879020e-01,\n",
      "        -3.40282347e+38]), 'high': array([  4.80000000e+00,   3.40282347e+38,   4.18879020e-01,\n",
      "         3.40282347e+38])}\n"
     ]
    }
   ],
   "source": [
    "print(vars(env.action_space))\n",
    "print(vars(env.observation_space))\n",
    "\n",
    "SOLVED_STEPS = 195 # openAI says that solving is averaging at least 195 steps"
   ]
  },
  {
   "cell_type": "code",
   "execution_count": 5,
   "metadata": {},
   "outputs": [],
   "source": [
    "class Agent(object):\n",
    "    def __init__(self):\n",
    "        return\n",
    "        \n",
    "    def choose_action(self, state):\n",
    "        action = env.action_space.sample()\n",
    "        return action\n",
    "        \n",
    "    def learn(self, state, reward):\n",
    "        return"
   ]
  },
  {
   "cell_type": "code",
   "execution_count": 6,
   "metadata": {
    "collapsed": true
   },
   "outputs": [],
   "source": [
    "agent = Agent()"
   ]
  },
  {
   "cell_type": "code",
   "execution_count": 12,
   "metadata": {},
   "outputs": [
    {
     "name": "stdout",
     "output_type": "stream",
     "text": [
      "Episode 1 finished after 48 timesteps\n",
      "Episode 2 finished after 15 timesteps\n",
      "Episode 3 finished after 38 timesteps\n",
      "Episode 4 finished after 27 timesteps\n",
      "Episode 5 finished after 41 timesteps\n",
      "Episode 6 finished after 30 timesteps\n",
      "Episode 7 finished after 47 timesteps\n",
      "Episode 8 finished after 15 timesteps\n",
      "Episode 9 finished after 13 timesteps\n",
      "Episode 10 finished after 21 timesteps\n"
     ]
    }
   ],
   "source": [
    "for i in range(10): # episodes\n",
    "    timesteps = 0\n",
    "    state = env.reset()\n",
    "    for t in range(1, SOLVED_STEPS+1):\n",
    "        env.render(close=False)\n",
    "        action = agent.choose_action(state)\n",
    "        state, reward, done, info = env.step(action)\n",
    "        agent.learn(state, reward)\n",
    "        if done:\n",
    "            print(\"Episode {} finished after {} timesteps\".format(i+1, t))\n",
    "            break\n",
    "    if t == SOLVED_STEPS:\n",
    "        print(\"Episode {} was a success\".format(i+1))\n",
    "\n",
    "env.render(close=True)\n",
    "env.reset()\n",
    "env.close()"
   ]
  },
  {
   "cell_type": "code",
   "execution_count": 10,
   "metadata": {
    "collapsed": true
   },
   "outputs": [],
   "source": []
  },
  {
   "cell_type": "code",
   "execution_count": null,
   "metadata": {
    "collapsed": true
   },
   "outputs": [],
   "source": []
  }
 ],
 "metadata": {
  "kernelspec": {
   "display_name": "Python 3",
   "language": "python",
   "name": "python3"
  },
  "language_info": {
   "codemirror_mode": {
    "name": "ipython",
    "version": 3
   },
   "file_extension": ".py",
   "mimetype": "text/x-python",
   "name": "python",
   "nbconvert_exporter": "python",
   "pygments_lexer": "ipython3",
   "version": "3.6.3"
  }
 },
 "nbformat": 4,
 "nbformat_minor": 2
}
